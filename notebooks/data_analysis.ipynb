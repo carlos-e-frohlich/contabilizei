{
 "cells": [
  {
   "cell_type": "markdown",
   "metadata": {},
   "source": [
    "Preamble."
   ]
  },
  {
   "cell_type": "code",
   "execution_count": 24,
   "metadata": {},
   "outputs": [],
   "source": [
    "import matplotlib.pyplot as plt\n",
    "import sys\n",
    "sys.path.append('/home/cefrohlich/github/contabilizei/contabilizei')\n",
    "from read import import_data"
   ]
  },
  {
   "cell_type": "markdown",
   "metadata": {},
   "source": [
    "Import data and define continous and discrete variables."
   ]
  },
  {
   "cell_type": "code",
   "execution_count": 25,
   "metadata": {},
   "outputs": [],
   "source": [
    "data = import_data()\n",
    "\n",
    "variables_continuous = [\n",
    "    'age',\n",
    "    'n_access_simulator',\n",
    "    'n_partners',\n",
    "    'monthly_income',\n",
    "    'tickets_opened',\n",
    "    'tenure',\n",
    "    'csat'\n",
    "]\n",
    "\n",
    "variables_discrete = [\n",
    "    'propension',\n",
    "    'gender_Feminino',\n",
    "    'region_Centro-Oeste',\n",
    "    'region_Nordeste',\n",
    "    'region_Norte',\n",
    "    'region_Sul',\n",
    "    'customer_service_channel_Chat',\n",
    "    'customer_service_channel_Email'\n",
    "]"
   ]
  },
  {
   "cell_type": "markdown",
   "metadata": {},
   "source": [
    "Study basic descriptive statistics."
   ]
  },
  {
   "cell_type": "code",
   "execution_count": null,
   "metadata": {},
   "outputs": [],
   "source": [
    "data.describe().transpose()"
   ]
  },
  {
   "cell_type": "markdown",
   "metadata": {},
   "source": [
    "Study distributions."
   ]
  },
  {
   "cell_type": "code",
   "execution_count": null,
   "metadata": {},
   "outputs": [],
   "source": [
    "for variable in variables_continuous:\n",
    "    fig, axs = plt.subplots(\n",
    "        nrows=1,\n",
    "        ncols=2,\n",
    "        sharex=True\n",
    "    )\n",
    "\n",
    "    fig.set_size_inches(18, 9)\n",
    "\n",
    "    fig.suptitle(variable)\n",
    "\n",
    "    axs[0].boxplot(\n",
    "        x=data[variable],\n",
    "        orientation='horizontal'\n",
    "    )\n",
    "\n",
    "    axs[1].hist(\n",
    "        x=data[variable],\n",
    "        bins=10,\n",
    "        density=True\n",
    "    )\n",
    "\n",
    "    plt.show()\n",
    "    plt.close()"
   ]
  },
  {
   "cell_type": "markdown",
   "metadata": {},
   "source": [
    "Study correlations."
   ]
  },
  {
   "cell_type": "code",
   "execution_count": null,
   "metadata": {},
   "outputs": [],
   "source": [
    "data.corr()"
   ]
  }
 ],
 "metadata": {
  "kernelspec": {
   "display_name": "venv",
   "language": "python",
   "name": "python3"
  },
  "language_info": {
   "codemirror_mode": {
    "name": "ipython",
    "version": 3
   },
   "file_extension": ".py",
   "mimetype": "text/x-python",
   "name": "python",
   "nbconvert_exporter": "python",
   "pygments_lexer": "ipython3",
   "version": "3.12.3"
  }
 },
 "nbformat": 4,
 "nbformat_minor": 2
}
